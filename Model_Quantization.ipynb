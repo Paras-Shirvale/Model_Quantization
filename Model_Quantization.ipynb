{
  "nbformat": 4,
  "nbformat_minor": 0,
  "metadata": {
    "colab": {
      "provenance": [],
      "include_colab_link": true
    },
    "kernelspec": {
      "name": "python3",
      "display_name": "Python 3"
    },
    "language_info": {
      "name": "python"
    }
  },
  "cells": [
    {
      "cell_type": "markdown",
      "metadata": {
        "id": "view-in-github",
        "colab_type": "text"
      },
      "source": [
        "<a href=\"https://colab.research.google.com/github/Paras-Shirvale/Model_Quantization/blob/main/Model_Quantization.ipynb\" target=\"_parent\"><img src=\"https://colab.research.google.com/assets/colab-badge.svg\" alt=\"Open In Colab\"/></a>"
      ]
    },
    {
      "cell_type": "markdown",
      "source": [
        "Assignment 11\n",
        "Akshat shah(23110293)\n",
        "Paras Shirvale (23110232)"
      ],
      "metadata": {
        "id": "P_DXuxjnpC2u"
      }
    },
    {
      "cell_type": "code",
      "source": [
        "import pandas as pd\n",
        "from sklearn.model_selection import train_test_split\n",
        "from sklearn.feature_extraction.text import TfidfVectorizer\n",
        "from torch.utils.data import TensorDataset, DataLoader"
      ],
      "metadata": {
        "id": "l2fKD1vIcZfU"
      },
      "execution_count": 47,
      "outputs": []
    },
    {
      "cell_type": "code",
      "execution_count": 48,
      "metadata": {
        "colab": {
          "base_uri": "https://localhost:8080/",
          "height": 206
        },
        "id": "XtHLVmT8pUhc",
        "outputId": "85a1bd39-42e4-46b7-fdcc-32e2127d2589"
      },
      "outputs": [
        {
          "output_type": "display_data",
          "data": {
            "text/plain": [
              "                                            sentence  label\n",
              "0  apparently reassembled from the cutting room f...      0\n",
              "1  they presume their audience wo n't sit still f...      0\n",
              "2  this is a visually stunning rumination on love...      1\n",
              "3  jonathan parker 's bartleby should have been t...      1\n",
              "4  campanella gets the tone just right funny in t...      1"
            ],
            "text/html": [
              "\n",
              "  <div id=\"df-9d34f311-9eac-4536-a8ae-77e6f9717085\" class=\"colab-df-container\">\n",
              "    <div>\n",
              "<style scoped>\n",
              "    .dataframe tbody tr th:only-of-type {\n",
              "        vertical-align: middle;\n",
              "    }\n",
              "\n",
              "    .dataframe tbody tr th {\n",
              "        vertical-align: top;\n",
              "    }\n",
              "\n",
              "    .dataframe thead th {\n",
              "        text-align: right;\n",
              "    }\n",
              "</style>\n",
              "<table border=\"1\" class=\"dataframe\">\n",
              "  <thead>\n",
              "    <tr style=\"text-align: right;\">\n",
              "      <th></th>\n",
              "      <th>sentence</th>\n",
              "      <th>label</th>\n",
              "    </tr>\n",
              "  </thead>\n",
              "  <tbody>\n",
              "    <tr>\n",
              "      <th>0</th>\n",
              "      <td>apparently reassembled from the cutting room f...</td>\n",
              "      <td>0</td>\n",
              "    </tr>\n",
              "    <tr>\n",
              "      <th>1</th>\n",
              "      <td>they presume their audience wo n't sit still f...</td>\n",
              "      <td>0</td>\n",
              "    </tr>\n",
              "    <tr>\n",
              "      <th>2</th>\n",
              "      <td>this is a visually stunning rumination on love...</td>\n",
              "      <td>1</td>\n",
              "    </tr>\n",
              "    <tr>\n",
              "      <th>3</th>\n",
              "      <td>jonathan parker 's bartleby should have been t...</td>\n",
              "      <td>1</td>\n",
              "    </tr>\n",
              "    <tr>\n",
              "      <th>4</th>\n",
              "      <td>campanella gets the tone just right funny in t...</td>\n",
              "      <td>1</td>\n",
              "    </tr>\n",
              "  </tbody>\n",
              "</table>\n",
              "</div>\n",
              "    <div class=\"colab-df-buttons\">\n",
              "\n",
              "  <div class=\"colab-df-container\">\n",
              "    <button class=\"colab-df-convert\" onclick=\"convertToInteractive('df-9d34f311-9eac-4536-a8ae-77e6f9717085')\"\n",
              "            title=\"Convert this dataframe to an interactive table.\"\n",
              "            style=\"display:none;\">\n",
              "\n",
              "  <svg xmlns=\"http://www.w3.org/2000/svg\" height=\"24px\" viewBox=\"0 -960 960 960\">\n",
              "    <path d=\"M120-120v-720h720v720H120Zm60-500h600v-160H180v160Zm220 220h160v-160H400v160Zm0 220h160v-160H400v160ZM180-400h160v-160H180v160Zm440 0h160v-160H620v160ZM180-180h160v-160H180v160Zm440 0h160v-160H620v160Z\"/>\n",
              "  </svg>\n",
              "    </button>\n",
              "\n",
              "  <style>\n",
              "    .colab-df-container {\n",
              "      display:flex;\n",
              "      gap: 12px;\n",
              "    }\n",
              "\n",
              "    .colab-df-convert {\n",
              "      background-color: #E8F0FE;\n",
              "      border: none;\n",
              "      border-radius: 50%;\n",
              "      cursor: pointer;\n",
              "      display: none;\n",
              "      fill: #1967D2;\n",
              "      height: 32px;\n",
              "      padding: 0 0 0 0;\n",
              "      width: 32px;\n",
              "    }\n",
              "\n",
              "    .colab-df-convert:hover {\n",
              "      background-color: #E2EBFA;\n",
              "      box-shadow: 0px 1px 2px rgba(60, 64, 67, 0.3), 0px 1px 3px 1px rgba(60, 64, 67, 0.15);\n",
              "      fill: #174EA6;\n",
              "    }\n",
              "\n",
              "    .colab-df-buttons div {\n",
              "      margin-bottom: 4px;\n",
              "    }\n",
              "\n",
              "    [theme=dark] .colab-df-convert {\n",
              "      background-color: #3B4455;\n",
              "      fill: #D2E3FC;\n",
              "    }\n",
              "\n",
              "    [theme=dark] .colab-df-convert:hover {\n",
              "      background-color: #434B5C;\n",
              "      box-shadow: 0px 1px 3px 1px rgba(0, 0, 0, 0.15);\n",
              "      filter: drop-shadow(0px 1px 2px rgba(0, 0, 0, 0.3));\n",
              "      fill: #FFFFFF;\n",
              "    }\n",
              "  </style>\n",
              "\n",
              "    <script>\n",
              "      const buttonEl =\n",
              "        document.querySelector('#df-9d34f311-9eac-4536-a8ae-77e6f9717085 button.colab-df-convert');\n",
              "      buttonEl.style.display =\n",
              "        google.colab.kernel.accessAllowed ? 'block' : 'none';\n",
              "\n",
              "      async function convertToInteractive(key) {\n",
              "        const element = document.querySelector('#df-9d34f311-9eac-4536-a8ae-77e6f9717085');\n",
              "        const dataTable =\n",
              "          await google.colab.kernel.invokeFunction('convertToInteractive',\n",
              "                                                    [key], {});\n",
              "        if (!dataTable) return;\n",
              "\n",
              "        const docLinkHtml = 'Like what you see? Visit the ' +\n",
              "          '<a target=\"_blank\" href=https://colab.research.google.com/notebooks/data_table.ipynb>data table notebook</a>'\n",
              "          + ' to learn more about interactive tables.';\n",
              "        element.innerHTML = '';\n",
              "        dataTable['output_type'] = 'display_data';\n",
              "        await google.colab.output.renderOutput(dataTable, element);\n",
              "        const docLink = document.createElement('div');\n",
              "        docLink.innerHTML = docLinkHtml;\n",
              "        element.appendChild(docLink);\n",
              "      }\n",
              "    </script>\n",
              "  </div>\n",
              "\n",
              "\n",
              "<div id=\"df-eb7ba1ca-02c9-4d21-9f50-14347ea2f9e3\">\n",
              "  <button class=\"colab-df-quickchart\" onclick=\"quickchart('df-eb7ba1ca-02c9-4d21-9f50-14347ea2f9e3')\"\n",
              "            title=\"Suggest charts\"\n",
              "            style=\"display:none;\">\n",
              "\n",
              "<svg xmlns=\"http://www.w3.org/2000/svg\" height=\"24px\"viewBox=\"0 0 24 24\"\n",
              "     width=\"24px\">\n",
              "    <g>\n",
              "        <path d=\"M19 3H5c-1.1 0-2 .9-2 2v14c0 1.1.9 2 2 2h14c1.1 0 2-.9 2-2V5c0-1.1-.9-2-2-2zM9 17H7v-7h2v7zm4 0h-2V7h2v10zm4 0h-2v-4h2v4z\"/>\n",
              "    </g>\n",
              "</svg>\n",
              "  </button>\n",
              "\n",
              "<style>\n",
              "  .colab-df-quickchart {\n",
              "      --bg-color: #E8F0FE;\n",
              "      --fill-color: #1967D2;\n",
              "      --hover-bg-color: #E2EBFA;\n",
              "      --hover-fill-color: #174EA6;\n",
              "      --disabled-fill-color: #AAA;\n",
              "      --disabled-bg-color: #DDD;\n",
              "  }\n",
              "\n",
              "  [theme=dark] .colab-df-quickchart {\n",
              "      --bg-color: #3B4455;\n",
              "      --fill-color: #D2E3FC;\n",
              "      --hover-bg-color: #434B5C;\n",
              "      --hover-fill-color: #FFFFFF;\n",
              "      --disabled-bg-color: #3B4455;\n",
              "      --disabled-fill-color: #666;\n",
              "  }\n",
              "\n",
              "  .colab-df-quickchart {\n",
              "    background-color: var(--bg-color);\n",
              "    border: none;\n",
              "    border-radius: 50%;\n",
              "    cursor: pointer;\n",
              "    display: none;\n",
              "    fill: var(--fill-color);\n",
              "    height: 32px;\n",
              "    padding: 0;\n",
              "    width: 32px;\n",
              "  }\n",
              "\n",
              "  .colab-df-quickchart:hover {\n",
              "    background-color: var(--hover-bg-color);\n",
              "    box-shadow: 0 1px 2px rgba(60, 64, 67, 0.3), 0 1px 3px 1px rgba(60, 64, 67, 0.15);\n",
              "    fill: var(--button-hover-fill-color);\n",
              "  }\n",
              "\n",
              "  .colab-df-quickchart-complete:disabled,\n",
              "  .colab-df-quickchart-complete:disabled:hover {\n",
              "    background-color: var(--disabled-bg-color);\n",
              "    fill: var(--disabled-fill-color);\n",
              "    box-shadow: none;\n",
              "  }\n",
              "\n",
              "  .colab-df-spinner {\n",
              "    border: 2px solid var(--fill-color);\n",
              "    border-color: transparent;\n",
              "    border-bottom-color: var(--fill-color);\n",
              "    animation:\n",
              "      spin 1s steps(1) infinite;\n",
              "  }\n",
              "\n",
              "  @keyframes spin {\n",
              "    0% {\n",
              "      border-color: transparent;\n",
              "      border-bottom-color: var(--fill-color);\n",
              "      border-left-color: var(--fill-color);\n",
              "    }\n",
              "    20% {\n",
              "      border-color: transparent;\n",
              "      border-left-color: var(--fill-color);\n",
              "      border-top-color: var(--fill-color);\n",
              "    }\n",
              "    30% {\n",
              "      border-color: transparent;\n",
              "      border-left-color: var(--fill-color);\n",
              "      border-top-color: var(--fill-color);\n",
              "      border-right-color: var(--fill-color);\n",
              "    }\n",
              "    40% {\n",
              "      border-color: transparent;\n",
              "      border-right-color: var(--fill-color);\n",
              "      border-top-color: var(--fill-color);\n",
              "    }\n",
              "    60% {\n",
              "      border-color: transparent;\n",
              "      border-right-color: var(--fill-color);\n",
              "    }\n",
              "    80% {\n",
              "      border-color: transparent;\n",
              "      border-right-color: var(--fill-color);\n",
              "      border-bottom-color: var(--fill-color);\n",
              "    }\n",
              "    90% {\n",
              "      border-color: transparent;\n",
              "      border-bottom-color: var(--fill-color);\n",
              "    }\n",
              "  }\n",
              "</style>\n",
              "\n",
              "  <script>\n",
              "    async function quickchart(key) {\n",
              "      const quickchartButtonEl =\n",
              "        document.querySelector('#' + key + ' button');\n",
              "      quickchartButtonEl.disabled = true;  // To prevent multiple clicks.\n",
              "      quickchartButtonEl.classList.add('colab-df-spinner');\n",
              "      try {\n",
              "        const charts = await google.colab.kernel.invokeFunction(\n",
              "            'suggestCharts', [key], {});\n",
              "      } catch (error) {\n",
              "        console.error('Error during call to suggestCharts:', error);\n",
              "      }\n",
              "      quickchartButtonEl.classList.remove('colab-df-spinner');\n",
              "      quickchartButtonEl.classList.add('colab-df-quickchart-complete');\n",
              "    }\n",
              "    (() => {\n",
              "      let quickchartButtonEl =\n",
              "        document.querySelector('#df-eb7ba1ca-02c9-4d21-9f50-14347ea2f9e3 button');\n",
              "      quickchartButtonEl.style.display =\n",
              "        google.colab.kernel.accessAllowed ? 'block' : 'none';\n",
              "    })();\n",
              "  </script>\n",
              "</div>\n",
              "\n",
              "    </div>\n",
              "  </div>\n"
            ],
            "application/vnd.google.colaboratory.intrinsic+json": {
              "type": "dataframe",
              "summary": "{\n  \"name\": \"display(train_df\",\n  \"rows\": 5,\n  \"fields\": [\n    {\n      \"column\": \"sentence\",\n      \"properties\": {\n        \"dtype\": \"string\",\n        \"num_unique_values\": 5,\n        \"samples\": [\n          \"they presume their audience wo n't sit still for a sociology lesson , however entertainingly presented , so they trot out the conventional science fiction elements of bug eyed monsters and futuristic women in skimpy clothes\",\n          \"campanella gets the tone just right funny in the middle of sad in the middle of hopeful\",\n          \"this is a visually stunning rumination on love , memory , history and the war between art and commerce\"\n        ],\n        \"semantic_type\": \"\",\n        \"description\": \"\"\n      }\n    },\n    {\n      \"column\": \"label\",\n      \"properties\": {\n        \"dtype\": \"number\",\n        \"std\": 0,\n        \"min\": 0,\n        \"max\": 1,\n        \"num_unique_values\": 2,\n        \"samples\": [\n          1,\n          0\n        ],\n        \"semantic_type\": \"\",\n        \"description\": \"\"\n      }\n    }\n  ]\n}"
            }
          },
          "metadata": {}
        }
      ],
      "source": [
        "# URL of the dataset\n",
        "url_train = \"https://raw.githubusercontent.com/clairett/pytorch-sentiment-classification/master/data/SST2/train.tsv\"\n",
        "url_test=\"https://raw.githubusercontent.com/clairett/pytorch-sentiment-classification/master/data/SST2/test.tsv\"\n",
        "\n",
        "# Load the data\n",
        "train_df = pd.read_csv(url_train, sep='\\t')\n",
        "test_df = pd.read_csv(url_test, sep='\\t')\n",
        "\n",
        "train_df.columns = [\"sentence\", \"label\"]\n",
        "test_df.columns = [\"sentence\", \"label\"]\n",
        "\n",
        "# Display the first few rows\n",
        "display(train_df.head())"
      ]
    },
    {
      "cell_type": "code",
      "source": [
        "print(\"Number of columns:\", train_df.shape[1])"
      ],
      "metadata": {
        "colab": {
          "base_uri": "https://localhost:8080/"
        },
        "id": "VxST8J5nq1kJ",
        "outputId": "1ed73833-ad48-4dd0-b88e-7c22c5bc0681"
      },
      "execution_count": 49,
      "outputs": [
        {
          "output_type": "stream",
          "name": "stdout",
          "text": [
            "Number of columns: 2\n"
          ]
        }
      ]
    },
    {
      "cell_type": "code",
      "source": [
        "train_df.columns = ['sentence', 'label']\n",
        "test_df.columns=['sentence', 'label']\n",
        "print(train_df.columns)\n",
        "print(test_df.columns)"
      ],
      "metadata": {
        "colab": {
          "base_uri": "https://localhost:8080/"
        },
        "id": "qfcMQZsdqAbV",
        "outputId": "d4cf6703-bfe5-43b4-b73d-182997ca959e"
      },
      "execution_count": 50,
      "outputs": [
        {
          "output_type": "stream",
          "name": "stdout",
          "text": [
            "Index(['sentence', 'label'], dtype='object')\n",
            "Index(['sentence', 'label'], dtype='object')\n"
          ]
        }
      ]
    },
    {
      "cell_type": "code",
      "source": [
        "# Split train into train/val\n",
        "train_data, val_data = train_test_split(\n",
        "    train_df, test_size=0.2, random_state=42, stratify=train_df[\"label\"]\n",
        ")\n",
        "\n",
        "# Check\n",
        "print(f\"Train: {train_data.shape}, Validation: {val_data.shape}, Test: {test_df.shape}\")\n"
      ],
      "metadata": {
        "colab": {
          "base_uri": "https://localhost:8080/"
        },
        "id": "kCl0lL4Cpzgh",
        "outputId": "ec78b9a9-5018-446d-8410-f5b9fdb36978"
      },
      "execution_count": 51,
      "outputs": [
        {
          "output_type": "stream",
          "name": "stdout",
          "text": [
            "Train: (5535, 2), Validation: (1384, 2), Test: (1820, 2)\n"
          ]
        }
      ]
    },
    {
      "cell_type": "code",
      "source": [
        "# Fit the vectorizer on the training data\n",
        "vectorizer = TfidfVectorizer(max_features=10000)\n",
        "X_train = vectorizer.fit_transform(train_data['sentence']).toarray()\n",
        "X_val = vectorizer.transform(val_data['sentence']).toarray()\n",
        "X_test = vectorizer.transform(test_df['sentence']).toarray()\n",
        "\n",
        "# Labels\n",
        "y_train = train_data['label'].values\n",
        "y_val = val_data['label'].values\n",
        "y_test = test_df['label'].values\n"
      ],
      "metadata": {
        "id": "oR_1GY65rJWs"
      },
      "execution_count": 52,
      "outputs": []
    },
    {
      "cell_type": "code",
      "source": [
        "print(X_train.shape)  # Should be (num_samples, input_dim)"
      ],
      "metadata": {
        "colab": {
          "base_uri": "https://localhost:8080/"
        },
        "id": "Om95h2aSVoDm",
        "outputId": "445f20f4-b695-4c8c-b996-4bd1a730d6b2"
      },
      "execution_count": 53,
      "outputs": [
        {
          "output_type": "stream",
          "name": "stdout",
          "text": [
            "(5535, 10000)\n"
          ]
        }
      ]
    },
    {
      "cell_type": "code",
      "source": [
        "import torch\n",
        "import torch.nn as nn\n",
        "import torch.optim as optim\n",
        "from torch.utils.data import DataLoader, TensorDataset\n",
        "# Convert data to PyTorch tensors\n",
        "X_train_tensor = torch.tensor(X_train, dtype=torch.float32)\n",
        "X_val_tensor = torch.tensor(X_val, dtype=torch.float32)\n",
        "X_test_tensor = torch.tensor(X_test, dtype=torch.float32)\n",
        "\n",
        "y_train_tensor = torch.tensor(y_train, dtype=torch.long)\n",
        "y_val_tensor = torch.tensor(y_val, dtype=torch.long)\n",
        "y_test_tensor = torch.tensor(y_test, dtype=torch.long)\n",
        "\n",
        "# Create DataLoader for training and validation\n",
        "train_dataset = TensorDataset(X_train_tensor, y_train_tensor)\n",
        "val_dataset = TensorDataset(X_val_tensor, y_val_tensor)\n",
        "\n",
        "train_loader = DataLoader(train_dataset, batch_size=32, shuffle=True)\n",
        "val_loader = DataLoader(val_dataset, batch_size=32, shuffle=False)"
      ],
      "metadata": {
        "id": "h1R9xSvntXN8"
      },
      "execution_count": 54,
      "outputs": []
    },
    {
      "cell_type": "code",
      "source": [
        "import torch.nn as nn\n",
        "\n",
        "class MLP(nn.Module):\n",
        "    def __init__(self, input_dim, output_dim):\n",
        "        super(MLP, self).__init__()\n",
        "        self.network = nn.Sequential(\n",
        "            nn.Linear(input_dim, 512),\n",
        "            nn.ReLU(),\n",
        "            nn.Linear(512, 256),\n",
        "            nn.ReLU(),\n",
        "            nn.Linear(256, 128),\n",
        "            nn.ReLU(),\n",
        "            nn.Linear(128, 64),\n",
        "            nn.ReLU(),\n",
        "            nn.Linear(64, output_dim)\n",
        "        )\n",
        "\n",
        "    def forward(self, x):\n",
        "        return self.network(x)\n",
        "\n",
        "# Initialize model\n",
        "model = MLP(10000, 2)"
      ],
      "metadata": {
        "id": "vQDxt4V9sQIy"
      },
      "execution_count": 56,
      "outputs": []
    },
    {
      "cell_type": "code",
      "source": [
        "# Calculate the total number of trainable parameters\n",
        "total_params = sum(p.numel() for p in model.parameters() if p.requires_grad)\n",
        "\n",
        "print(total_params)"
      ],
      "metadata": {
        "colab": {
          "base_uri": "https://localhost:8080/"
        },
        "id": "nALhF34l-1oU",
        "outputId": "fe5cca4b-a6bb-455b-9354-246c335a7045"
      },
      "execution_count": 57,
      "outputs": [
        {
          "output_type": "stream",
          "name": "stdout",
          "text": [
            "5293122\n"
          ]
        }
      ]
    },
    {
      "cell_type": "code",
      "source": [
        "!pip install torchinfo"
      ],
      "metadata": {
        "colab": {
          "base_uri": "https://localhost:8080/"
        },
        "id": "xovI7M1wm3Tp",
        "outputId": "de5f66b9-1fa5-451b-f902-b2db759e5ea9"
      },
      "execution_count": 58,
      "outputs": [
        {
          "output_type": "stream",
          "name": "stdout",
          "text": [
            "Requirement already satisfied: torchinfo in /usr/local/lib/python3.11/dist-packages (1.8.0)\n"
          ]
        }
      ]
    },
    {
      "cell_type": "code",
      "source": [
        "from torchinfo import summary\n",
        "\n",
        "summary(model, input_size=(64, 10000))  # (batch_size, input_dim)"
      ],
      "metadata": {
        "colab": {
          "base_uri": "https://localhost:8080/"
        },
        "id": "Co8Xq6M_RKvh",
        "outputId": "4ae4d764-83ce-4258-a20d-6eaa1f5032ce"
      },
      "execution_count": 59,
      "outputs": [
        {
          "output_type": "execute_result",
          "data": {
            "text/plain": [
              "==========================================================================================\n",
              "Layer (type:depth-idx)                   Output Shape              Param #\n",
              "==========================================================================================\n",
              "MLP                                      [64, 2]                   --\n",
              "├─Sequential: 1-1                        [64, 2]                   --\n",
              "│    └─Linear: 2-1                       [64, 512]                 5,120,512\n",
              "│    └─ReLU: 2-2                         [64, 512]                 --\n",
              "│    └─Linear: 2-3                       [64, 256]                 131,328\n",
              "│    └─ReLU: 2-4                         [64, 256]                 --\n",
              "│    └─Linear: 2-5                       [64, 128]                 32,896\n",
              "│    └─ReLU: 2-6                         [64, 128]                 --\n",
              "│    └─Linear: 2-7                       [64, 64]                  8,256\n",
              "│    └─ReLU: 2-8                         [64, 64]                  --\n",
              "│    └─Linear: 2-9                       [64, 2]                   130\n",
              "==========================================================================================\n",
              "Total params: 5,293,122\n",
              "Trainable params: 5,293,122\n",
              "Non-trainable params: 0\n",
              "Total mult-adds (Units.MEGABYTES): 338.76\n",
              "==========================================================================================\n",
              "Input size (MB): 2.56\n",
              "Forward/backward pass size (MB): 0.49\n",
              "Params size (MB): 21.17\n",
              "Estimated Total Size (MB): 24.23\n",
              "=========================================================================================="
            ]
          },
          "metadata": {},
          "execution_count": 59
        }
      ]
    },
    {
      "cell_type": "code",
      "source": [
        "# Test data processing\n",
        "test_vec = vectorizer.transform(test_df['sentence']).toarray()\n",
        "X_test_tensor = torch.tensor(test_vec, dtype=torch.float32)\n",
        "X_test_tensor_16 = torch.tensor(test_vec, dtype=torch.float16)\n",
        "y_test_tensor = torch.tensor(test_df['label'].values, dtype=torch.long)"
      ],
      "metadata": {
        "id": "8gDA5K7TUVMX"
      },
      "execution_count": 60,
      "outputs": []
    },
    {
      "cell_type": "code",
      "source": [
        "# Move model to device\n",
        "device = torch.device(\"cuda\" if torch.cuda.is_available() else \"cpu\")\n",
        "model = model.to(device)\n",
        "\n",
        "# Hyperparameters\n",
        "input_dim = 10000\n",
        "output_dim = 2\n",
        "num_epochs = 10\n",
        "batch_size = 64\n",
        "learning_rate = 0.001\n",
        "\n",
        "# Loss & optimizer\n",
        "criterion = nn.CrossEntropyLoss()\n",
        "optimizer = optim.Adam(model.parameters(), lr=learning_rate)\n",
        "\n",
        "# Tracking performance\n",
        "best_val_acc = 0.0\n",
        "train_losses, val_losses, val_accuracies = [], [], []\n",
        "\n",
        "# Training loop\n",
        "for epoch in range(num_epochs):\n",
        "    model.train()\n",
        "    train_loss = 0.0\n",
        "\n",
        "    for inputs, labels in train_loader:\n",
        "        inputs, labels = inputs.to(device), labels.to(device)\n",
        "\n",
        "        optimizer.zero_grad()\n",
        "        outputs = model(inputs)\n",
        "        loss = criterion(outputs, labels)\n",
        "        loss.backward()\n",
        "        optimizer.step()\n",
        "\n",
        "        train_loss += loss.item()\n",
        "\n",
        "    train_losses.append(train_loss / len(train_loader))\n",
        "\n",
        "    # Validation\n",
        "    model.eval()\n",
        "    correct = 0\n",
        "    total = 0\n",
        "    val_loss = 0.0\n",
        "\n",
        "    with torch.no_grad():\n",
        "        for inputs, labels in val_loader:\n",
        "            inputs, labels = inputs.to(device), labels.to(device)\n",
        "            outputs = model(inputs)\n",
        "\n",
        "            loss = criterion(outputs, labels)\n",
        "            val_loss += loss.item()\n",
        "\n",
        "            _, predicted = torch.max(outputs, 1)\n",
        "            correct += (predicted == labels).sum().item()\n",
        "            total += labels.size(0)\n",
        "\n",
        "    avg_val_loss = val_loss / len(val_loader)\n",
        "    val_acc = correct / total\n",
        "    val_losses.append(avg_val_loss)\n",
        "    val_accuracies.append(val_acc)\n",
        "\n",
        "    print(f\"Epoch {epoch+1}/{num_epochs} | Train Loss: {train_losses[-1]:.4f} | Val Loss: {avg_val_loss:.4f} | Val Acc: {val_acc:.4f}\")\n",
        "\n",
        "    # Save best model\n",
        "    if val_acc > best_val_acc:\n",
        "        best_val_acc = val_acc\n",
        "        torch.save(model.state_dict(), \"checkpoint.pt\")"
      ],
      "metadata": {
        "colab": {
          "base_uri": "https://localhost:8080/"
        },
        "id": "hm6nchbUUu7n",
        "outputId": "1789e6c1-903a-4f3e-d501-91ed5d2f6bec"
      },
      "execution_count": 61,
      "outputs": [
        {
          "output_type": "stream",
          "name": "stdout",
          "text": [
            "Epoch 1/10 | Train Loss: 0.5483 | Val Loss: 0.4996 | Val Acc: 0.7738\n",
            "Epoch 2/10 | Train Loss: 0.1866 | Val Loss: 0.5347 | Val Acc: 0.7673\n",
            "Epoch 3/10 | Train Loss: 0.0401 | Val Loss: 0.9262 | Val Acc: 0.7594\n",
            "Epoch 4/10 | Train Loss: 0.0080 | Val Loss: 1.5237 | Val Acc: 0.7551\n",
            "Epoch 5/10 | Train Loss: 0.0011 | Val Loss: 2.0767 | Val Acc: 0.7673\n",
            "Epoch 6/10 | Train Loss: 0.0042 | Val Loss: 1.8023 | Val Acc: 0.7652\n",
            "Epoch 7/10 | Train Loss: 0.0002 | Val Loss: 2.2976 | Val Acc: 0.7587\n",
            "Epoch 8/10 | Train Loss: 0.0000 | Val Loss: 2.4483 | Val Acc: 0.7616\n",
            "Epoch 9/10 | Train Loss: 0.0000 | Val Loss: 2.6576 | Val Acc: 0.7645\n",
            "Epoch 10/10 | Train Loss: 0.0000 | Val Loss: 2.9792 | Val Acc: 0.7645\n"
          ]
        }
      ]
    },
    {
      "cell_type": "code",
      "source": [
        "# Plotting\n",
        "import matplotlib.pyplot as plt\n",
        "epochs = range(1, num_epochs + 1)\n",
        "\n",
        "plt.figure(figsize=(10, 5))\n",
        "\n",
        "plt.subplot(1, 2, 1)\n",
        "plt.plot(epochs, val_accuracies, marker='o', label='Validation Accuracy')\n",
        "plt.xlabel('Epochs')\n",
        "plt.ylabel('Accuracy')\n",
        "plt.title('Validation Accuracy')\n",
        "plt.grid(True)\n",
        "\n",
        "plt.subplot(1, 2, 2)\n",
        "plt.plot(epochs, val_losses, marker='o', color='red', label='Validation Loss')\n",
        "plt.xlabel('Epochs')\n",
        "plt.ylabel('Loss')\n",
        "plt.title('Validation Loss')\n",
        "plt.grid(True)\n",
        "\n",
        "plt.tight_layout()\n",
        "plt.show()"
      ],
      "metadata": {
        "colab": {
          "base_uri": "https://localhost:8080/",
          "height": 507
        },
        "id": "W3r3gI7aXB19",
        "outputId": "e72ec8bf-05bb-46b3-b907-3f786601b073"
      },
      "execution_count": 62,
      "outputs": [
        {
          "output_type": "display_data",
          "data": {
            "text/plain": [
              "<Figure size 1000x500 with 2 Axes>"
            ],
            "image/png": "[encoded data removed]"
          },
          "metadata": {}
        }
      ]
    },
    {
      "cell_type": "code",
      "source": [
        "from torch.quantization import quantize_dynamic"
      ],
      "metadata": {
        "id": "sK0JVQ4rZjXT"
      },
      "execution_count": 63,
      "outputs": []
    },
    {
      "cell_type": "code",
      "source": [
        "def print_size_of_model(model, label=\"\"):\n",
        "    import os\n",
        "    torch.save(model.state_dict(), \"temp.p\")\n",
        "    size=os.path.getsize(\"temp.p\")\n",
        "    print(\"model: \",label,' \\t','Size (KB):', size/1e3)\n",
        "    os.remove('temp.p')\n",
        "    return size"
      ],
      "metadata": {
        "id": "2Qu5AlpuaCXD"
      },
      "execution_count": 64,
      "outputs": []
    },
    {
      "cell_type": "code",
      "source": [
        "def evaluate_accuracy(model, features,labels):\n",
        "    import time\n",
        "    model.eval()\n",
        "    device = torch.device(\"cuda\" if torch.cuda.is_available() else \"cpu\")\n",
        "    model.to(device)\n",
        "    features = features.to(device)\n",
        "    labels = labels.to(device)\n",
        "\n",
        "    start_time = time.time()\n",
        "    with torch.no_grad():\n",
        "        outputs = model(features)\n",
        "        _, predicted = torch.max(outputs, 1)\n",
        "    inference_time = time.time() - start_time\n",
        "\n",
        "    correct = (predicted == labels).sum().item()\n",
        "    accuracy = correct / len(labels)\n",
        "\n",
        "    return accuracy, inference_time"
      ],
      "metadata": {
        "id": "QiUysliUaXjj"
      },
      "execution_count": 65,
      "outputs": []
    },
    {
      "cell_type": "code",
      "source": [
        "print(device)"
      ],
      "metadata": {
        "colab": {
          "base_uri": "https://localhost:8080/"
        },
        "id": "CMsAxiSmmotz",
        "outputId": "9e69aed3-7533-459e-8c3b-1ad7f5475bb3"
      },
      "execution_count": 66,
      "outputs": [
        {
          "output_type": "stream",
          "name": "stdout",
          "text": [
            "cpu\n"
          ]
        }
      ]
    },
    {
      "cell_type": "code",
      "source": [
        "def modelsize(model):\n",
        "    import io\n",
        "    buffer = io.BytesIO()\n",
        "    torch.save(model.state_dict(), buffer)\n",
        "    size = buffer.getbuffer().nbytes / (1024 * 1024)\n",
        "    return size"
      ],
      "metadata": {
        "id": "gIGI9VvCaGNL"
      },
      "execution_count": 67,
      "outputs": []
    },
    {
      "cell_type": "code",
      "source": [
        "model = MLP(10000, 2).to(device)\n",
        "model.load_state_dict(torch.load(\"checkpoint.pt\"))\n",
        "model.eval()\n",
        "size_original=modelsize(model)\n",
        "\n",
        "acc_original,time_original = evaluate_accuracy(model, X_test_tensor, y_test_tensor)\n",
        "print(\"Original Model Accuracy: {:.8f}%\".format(acc_original * 100))\n",
        "print(\"Original Model Inference Time: {:.4f} seconds\".format(time_original))\n",
        "print(\"Model size (MB):\", size_original)"
      ],
      "metadata": {
        "colab": {
          "base_uri": "https://localhost:8080/"
        },
        "id": "6qVIi2rlahEh",
        "outputId": "bdff5fed-06c2-4ea6-c79f-f353fdd83a9c"
      },
      "execution_count": 68,
      "outputs": [
        {
          "output_type": "stream",
          "name": "stdout",
          "text": [
            "Original Model Accuracy: 79.06593407%\n",
            "Original Model Inference Time: 0.3154 seconds\n",
            "Model size (MB): 20.19481658935547\n"
          ]
        }
      ]
    },
    {
      "cell_type": "code",
      "source": [
        "model = MLP(10000, 2).to(device)\n",
        "model.load_state_dict(torch.load(\"checkpoint.pt\"))\n",
        "model.eval()\n",
        "quantized_model = torch.quantization.quantize_dynamic(model, {nn.Linear}, dtype=torch.qint8)\n",
        "# For quantized model (must stay on CPU)\n",
        "acc_int8,time_int8= evaluate_accuracy(quantized_model, X_test_tensor, y_test_tensor)\n",
        "sizeint8=modelsize(quantized_model)\n",
        "\n",
        "print(\"Quantized model accuracy: \", acc_int8*100, \"%\")\n",
        "print(\"Quantized model inference time: {:.4f} seconds \".format(time_int8))\n",
        "print(\"Quantized model size: \", sizeint8, \"MB\")"
      ],
      "metadata": {
        "colab": {
          "base_uri": "https://localhost:8080/"
        },
        "id": "9WIkvt6igp7N",
        "outputId": "e5f0b54f-8dd5-4f1b-869a-d9c74fc2f1df"
      },
      "execution_count": 69,
      "outputs": [
        {
          "output_type": "stream",
          "name": "stdout",
          "text": [
            "Quantized model accuracy:  79.34065934065934 %\n",
            "Quantized model inference time: 0.2261 seconds \n",
            "Quantized model size:  5.057214736938477 MB\n"
          ]
        }
      ]
    },
    {
      "cell_type": "code",
      "source": [
        "model = MLP(10000, 2).to(device)\n",
        "model.load_state_dict(torch.load(\"checkpoint.pt\"))\n",
        "model=model.half()\n",
        "model.eval()\n",
        "\n",
        "acc_16,time_16 = evaluate_accuracy(model, X_test_tensor_16, y_test_tensor)\n",
        "size16=modelsize(model)\n",
        "print(\"Quantized model accuracy: \", acc_16*100, \"%\")\n",
        "print(\"Model inference time (FP16): {:.4f} seconds\".format(time_16))\n",
        "print(\"Model size (MB):\", size16)"
      ],
      "metadata": {
        "colab": {
          "base_uri": "https://localhost:8080/"
        },
        "id": "kVqB2SYZg1TU",
        "outputId": "8d2cd619-10c4-45ac-8663-68f50423af88"
      },
      "execution_count": 70,
      "outputs": [
        {
          "output_type": "stream",
          "name": "stdout",
          "text": [
            "Quantized model accuracy:  79.06593406593406 %\n",
            "Model inference time (FP16): 2.5972 seconds\n",
            "Model size (MB): 10.098991394042969\n"
          ]
        }
      ]
    },
    {
      "cell_type": "code",
      "source": [
        "# Convert inference times from seconds to milliseconds\n",
        "time_original_ms = time_original * 1000\n",
        "time_int8_ms = time_int8 * 1000\n",
        "time_16_ms = time_16 * 1000\n",
        "\n",
        "# Create a dictionary of the results\n",
        "results = {\n",
        "    \"Model Name\": [\"Original\", \"Dynamic\", \"Half\"],\n",
        "    \"Accuracy (Out of 100)\": [acc_original * 100, acc_int8 * 100, acc_16 * 100],\n",
        "    \"Storage (In MB)\": [size_original, sizeint8, size16],\n",
        "    \"Inference Time (In ms)\": [time_original_ms, time_int8_ms, time_16_ms]\n",
        "}\n",
        "\n",
        "# Create the DataFrame\n",
        "df = pd.DataFrame(results)\n",
        "\n",
        "# Format floats to 4 decimal places\n",
        "pd.options.display.float_format = '{:,.4f}'.format\n",
        "\n",
        "# Print the DataFrame\n",
        "print(df)"
      ],
      "metadata": {
        "colab": {
          "base_uri": "https://localhost:8080/"
        },
        "id": "FwXAcPhgjIN6",
        "outputId": "fbced95e-0a05-45ff-842a-963c74335e05"
      },
      "execution_count": 71,
      "outputs": [
        {
          "output_type": "stream",
          "name": "stdout",
          "text": [
            "  Model Name  Accuracy (Out of 100)  Storage (In MB)  Inference Time (In ms)\n",
            "0   Original                79.0659          20.1948                315.4037\n",
            "1    Dynamic                79.3407           5.0572                226.1090\n",
            "2       Half                79.0659          10.0990              2,597.2493\n"
          ]
        }
      ]
    },
    {
      "cell_type": "code",
      "source": [
        "# ======== FP32 MODEL ========\n",
        "model_fp32 = MLP(10000, 2).to(device)\n",
        "model_fp32.load_state_dict(torch.load(\"checkpoint.pt\"))\n",
        "model_fp32.eval()\n",
        "\n",
        "acc_fp32, time_fp32 = evaluate_accuracy(model_fp32, X_test_tensor, y_test_tensor)\n",
        "size_fp32 = modelsize(model_fp32)\n",
        "\n",
        "print(\"FP32 Model Accuracy: {:.8f}%\".format(acc_fp32 * 100))\n",
        "print(\"FP32 Inference Time: {:.4f} seconds\".format(time_fp32))\n",
        "print(\"FP32 Model Size (MB):\", size_fp32)\n",
        "\n",
        "# ======== INT8 QUANTIZED MODEL (CPU ONLY) ========\n",
        "model_cpu = MLP(10000, 2)\n",
        "model_cpu.load_state_dict(torch.load(\"checkpoint.pt\", map_location='cpu'))\n",
        "model_cpu.eval()\n",
        "\n",
        "quantized_model = torch.quantization.quantize_dynamic(model_cpu, {nn.Linear}, dtype=torch.qint8)\n",
        "\n",
        "# Move test data to CPU\n",
        "X_cpu = X_test_tensor.cpu()\n",
        "y_cpu = y_test_tensor.cpu()\n",
        "\n",
        "acc_int8, time_int8 = evaluate_accuracy(quantized_model, X_cpu, y_cpu)\n",
        "size_int8 = modelsize(quantized_model)\n",
        "\n",
        "print(\"INT8 Quantized Model Accuracy: {:.8f}%\".format(acc_int8 * 100))\n",
        "print(\"INT8 Inference Time: {:.4f} seconds\".format(time_int8))\n",
        "print(\"INT8 Model Size (MB):\", size_int8)\n",
        "\n",
        "# ======== FP16 MODEL (NO QUANTIZATION, GPU ONLY) ========\n",
        "model_fp16 = MLP(10000, 2).to(device)\n",
        "model_fp16.load_state_dict(torch.load(\"checkpoint.pt\"))\n",
        "model_fp16 = model_fp16.half()\n",
        "model_fp16.eval()\n",
        "\n",
        "# Ensure input is half precision and on GPU\n",
        "acc_fp16, time_fp16 = evaluate_accuracy(model_fp16, X_test_tensor_16.half(), y_test_tensor)\n",
        "size_fp16 = modelsize(model_fp16)\n",
        "\n",
        "print(\"FP16 Model Accuracy: {:.8f}%\".format(acc_fp16 * 100))\n",
        "print(\"FP16 Inference Time: {:.4f} seconds\".format(time_fp16))\n",
        "print(\"FP16 Model Size (MB):\", size_fp16)\n"
      ],
      "metadata": {
        "id": "MRo1rrJutcAS",
        "outputId": "f1b596d2-4c35-44a2-9b4f-06bd54ac9c33",
        "colab": {
          "base_uri": "https://localhost:8080/"
        }
      },
      "execution_count": 72,
      "outputs": [
        {
          "output_type": "stream",
          "name": "stdout",
          "text": [
            "FP32 Model Accuracy: 79.06593407%\n",
            "FP32 Inference Time: 0.4881 seconds\n",
            "FP32 Model Size (MB): 20.19481658935547\n",
            "INT8 Quantized Model Accuracy: 79.34065934%\n",
            "INT8 Inference Time: 0.2079 seconds\n",
            "INT8 Model Size (MB): 5.057214736938477\n",
            "FP16 Model Accuracy: 79.06593407%\n",
            "FP16 Inference Time: 2.8653 seconds\n",
            "FP16 Model Size (MB): 10.098991394042969\n"
          ]
        }
      ]
    },
    {
      "cell_type": "code",
      "source": [],
      "metadata": {
        "id": "uNfwbajB-9Pb"
      },
      "execution_count": 72,
      "outputs": []
    }
  ]
}